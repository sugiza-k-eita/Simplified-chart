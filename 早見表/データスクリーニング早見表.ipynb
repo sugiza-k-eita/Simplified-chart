{
 "cells": [
  {
   "cell_type": "code",
   "execution_count": 1,
   "metadata": {},
   "outputs": [],
   "source": [
    "import pandas as pd\n",
    "import glob"
   ]
  },
  {
   "cell_type": "code",
   "execution_count": null,
   "metadata": {},
   "outputs": [],
   "source": [
    "data1 = pd.read_csv('filename.csv')\n",
    "data1.head()\n",
    "\n",
    "data2 = pd.read_excel(\"filename.xlsx\")"
   ]
  },
  {
   "cell_type": "markdown",
   "metadata": {},
   "source": [
    "## データスクリーニング"
   ]
  },
  {
   "cell_type": "markdown",
   "metadata": {},
   "source": [
    "## データ結合 縦方向"
   ]
  },
  {
   "cell_type": "code",
   "execution_count": 2,
   "metadata": {},
   "outputs": [
    {
     "ename": "NameError",
     "evalue": "name 'data1' is not defined",
     "output_type": "error",
     "traceback": [
      "\u001b[1;31m---------------------------------------------------------------------------\u001b[0m",
      "\u001b[1;31mNameError\u001b[0m                                 Traceback (most recent call last)",
      "\u001b[1;32m<ipython-input-2-eb49e93a1e54>\u001b[0m in \u001b[0;36m<module>\u001b[1;34m\u001b[0m\n\u001b[1;32m----> 1\u001b[1;33m \u001b[0munion_data\u001b[0m \u001b[1;33m=\u001b[0m \u001b[0mpd\u001b[0m\u001b[1;33m.\u001b[0m\u001b[0mconcat\u001b[0m\u001b[1;33m(\u001b[0m\u001b[1;33m[\u001b[0m\u001b[0mdata1\u001b[0m\u001b[1;33m,\u001b[0m \u001b[0mdata2\u001b[0m\u001b[1;33m]\u001b[0m\u001b[1;33m,\u001b[0m \u001b[0mignore_index\u001b[0m\u001b[1;33m=\u001b[0m\u001b[1;32mTrue\u001b[0m\u001b[1;33m)\u001b[0m\u001b[1;33m\u001b[0m\u001b[1;33m\u001b[0m\u001b[0m\n\u001b[0m\u001b[0;32m      2\u001b[0m \u001b[0mtransaction\u001b[0m\u001b[1;33m.\u001b[0m\u001b[0mhead\u001b[0m\u001b[1;33m(\u001b[0m\u001b[1;33m)\u001b[0m\u001b[1;33m\u001b[0m\u001b[1;33m\u001b[0m\u001b[0m\n",
      "\u001b[1;31mNameError\u001b[0m: name 'data1' is not defined"
     ]
    }
   ],
   "source": [
    "union_data = pd.concat([data1, data2], ignore_index=True)#ignore_indexは投資番号を振り直し\n",
    "transaction.head()"
   ]
  },
  {
   "cell_type": "markdown",
   "metadata": {},
   "source": [
    "## データ結合　横方向"
   ]
  },
  {
   "cell_type": "code",
   "execution_count": null,
   "metadata": {},
   "outputs": [],
   "source": [
    "join_data = pd.merge(data1, data2[[\"列名\", \"列名\", \"列名\"]], on=\"キー列\", how=\"left or right\")\n",
    "#data1にdata2の指定した列を結合させる"
   ]
  },
  {
   "cell_type": "markdown",
   "metadata": {},
   "source": [
    "## 別のファイルのデータ結合"
   ]
  },
  {
   "cell_type": "code",
   "execution_count": null,
   "metadata": {},
   "outputs": [],
   "source": [
    "import_folder_path = \"C:\\Users\\sugiz\\OneDrive\\デスクトップ\\pandas\"\n",
    "path = import_folder_path + \"/\" + \"*.xlsx\"\n",
    "# import_folder_path + \"/\" + \"*.xlsx\"　で複数のファイルの情報を取得している\n",
    "file_path = glob.glob(path)\n",
    "#pathで取得したデータをglobを使って開く"
   ]
  },
  {
   "cell_type": "code",
   "execution_count": null,
   "metadata": {},
   "outputs": [],
   "source": [
    "df_concat = pd.DataFrame()\n",
    "#くっつけるための空のデータを用意する\n",
    "for i in file_path:\n",
    "    df_read_excel =pd.read_excel(i)\n",
    "    #ファイルごとに書き出し\n",
    "    df_concat = pd.concat[df_read_excel, df_concat]"
   ]
  },
  {
   "cell_type": "markdown",
   "metadata": {},
   "source": [
    "## データの揺れを直す"
   ]
  },
  {
   "cell_type": "code",
   "execution_count": null,
   "metadata": {},
   "outputs": [],
   "source": [
    "data[\"揺れを直したい列名\"] = uriage_data[\"揺れを直したい列名\"].str.upper()\n",
    "data[\"揺れを直したい列名\"] = uriage_data[\"揺れを直したい列名\"].str.replace(\"　\", \"\")\n",
    "data[\"揺れを直したい列名\"] = uriage_data[\"揺れを直したい列名\"].str.replace(\" \", \"\")\n",
    "data.sort_values(by=[\"揺れを直したい列名\"], ascending=True)\n",
    "#文字列を数値に直す際にも使用する"
   ]
  },
  {
   "cell_type": "markdown",
   "metadata": {},
   "source": [
    "## 欠損値に正しい値を入れる"
   ]
  },
  {
   "cell_type": "code",
   "execution_count": null,
   "metadata": {},
   "outputs": [],
   "source": [
    "flg_is_null = uriage_data[\"欠損値がある列名\"].isnull()\n",
    "for trg in list(uriage_data.loc[flg_is_null, \"商品名や消費者名などの欠損値のある列名の情報と同期している列名\"].unique()):\n",
    "    price = uriage_data.loc[(~flg_is_null) & (uriage_data[\"欠損値のある列名の情報と同期している列名\"] == trg), \"欠損値がある列名\"].max()\n",
    "    uriage_data[\"欠損値がある列名\"].loc[(flg_is_null) & (uriage_data[\"欠損値のある列名の情報と同期している列名\"]==trg)] = price\n",
    "uriage_data.head()"
   ]
  },
  {
   "cell_type": "markdown",
   "metadata": {},
   "source": [
    "## 欠損値の確認"
   ]
  },
  {
   "cell_type": "code",
   "execution_count": null,
   "metadata": {},
   "outputs": [],
   "source": [
    "data.isnull().any(axis=0)"
   ]
  },
  {
   "cell_type": "code",
   "execution_count": null,
   "metadata": {},
   "outputs": [],
   "source": [
    "##　商品データなど固定されているものがちゃんと入力できているか確認する"
   ]
  },
  {
   "cell_type": "code",
   "execution_count": null,
   "metadata": {},
   "outputs": [],
   "source": [
    "for trg in list(uriage_data[\"商品名などの個体名\"].sort_values().unique()):\n",
    "    print(trg + \"の最大額：\" + str(uriage_data.loc[data[\"個体名\"]==trg][\"価格などの列名\"].max()) + \"の最小額：\" + str(data.loc[data[\"item_name\"]==trg][\"価格などの列名\"].min(skipna=False)))"
   ]
  },
  {
   "cell_type": "markdown",
   "metadata": {},
   "source": [
    "## 欠損値の除去"
   ]
  },
  {
   "cell_type": "code",
   "execution_count": null,
   "metadata": {},
   "outputs": [],
   "source": [
    "dropna()\n",
    "# 欠損値を除去\n",
    "fillna(引数１)\n",
    "# 欠損値に引数１を代入\n",
    "where(引数１，引数２)\n",
    "# 引数１ではないとき、引数２を代入"
   ]
  },
  {
   "cell_type": "markdown",
   "metadata": {},
   "source": [
    "## データの基礎情報の集計"
   ]
  },
  {
   "cell_type": "code",
   "execution_count": null,
   "metadata": {},
   "outputs": [],
   "source": [
    "data.groupby(\"調べたい列名\").count()[\"基準にする列名\"]\n",
    "# ex　調べたい列名に性別、基準にする列名にid番号などを入れると、男性○○人　女性□□人　みたいな感じで出る"
   ]
  },
  {
   "cell_type": "markdown",
   "metadata": {},
   "source": [
    "## データの要約統計量を出す"
   ]
  },
  {
   "cell_type": "code",
   "execution_count": null,
   "metadata": {},
   "outputs": [],
   "source": [
    "data[[\"列名\", \"列名\", \"列名\", \"列名\"]].describe()"
   ]
  },
  {
   "cell_type": "markdown",
   "metadata": {},
   "source": [
    "## 可視化"
   ]
  },
  {
   "cell_type": "markdown",
   "metadata": {},
   "source": [
    "## 折れ線グラフ可視化"
   ]
  },
  {
   "cell_type": "code",
   "execution_count": null,
   "metadata": {},
   "outputs": [],
   "source": [
    "import matplotlib.pyplot as plt\n",
    "%matplotlib inline\n",
    "plt.plot(list(graph_data.index), graph_data[\"列名\"], label='なまえ')\n",
    "plt.legend()  "
   ]
  },
  {
   "cell_type": "markdown",
   "metadata": {},
   "source": [
    "## ヒストグラム可視化"
   ]
  },
  {
   "cell_type": "code",
   "execution_count": null,
   "metadata": {},
   "outputs": [],
   "source": [
    "import matplotlib.pyplot as plt\n",
    "%matplotlib inline\n",
    "plt.hist(data[\"ヒストグラムにしたい列名\"])"
   ]
  },
  {
   "cell_type": "markdown",
   "metadata": {},
   "source": [
    "## データ掃き出し"
   ]
  },
  {
   "cell_type": "code",
   "execution_count": null,
   "metadata": {},
   "outputs": [],
   "source": [
    "export_file_path = \"C:\\Users\\sugiz\\OneDrive\\デスクトップ\\pandas\"\n",
    "# ファイルを吐き出したい場所を指定"
   ]
  },
  {
   "cell_type": "code",
   "execution_count": null,
   "metadata": {},
   "outputs": [],
   "source": [
    "output_data.to_csv(\"data.csv\", index=True)\n",
    "output_data"
   ]
  },
  {
   "cell_type": "markdown",
   "metadata": {},
   "source": [
    "##  種類ごとに吐き出し"
   ]
  },
  {
   "cell_type": "code",
   "execution_count": null,
   "metadata": {},
   "outputs": [],
   "source": [
    "for i in company_name:#company_name のところは吐き出したい種類\n",
    "    data_detail = data[data[\"company_name\"]== i]\n",
    "    dta_detail.to_excel(export_file_path +\"/\"+i+\"xlsx\")"
   ]
  }
 ],
 "metadata": {
  "kernelspec": {
   "display_name": "Python 3",
   "language": "python",
   "name": "python3"
  },
  "language_info": {
   "codemirror_mode": {
    "name": "ipython",
    "version": 3
   },
   "file_extension": ".py",
   "mimetype": "text/x-python",
   "name": "python",
   "nbconvert_exporter": "python",
   "pygments_lexer": "ipython3",
   "version": "3.7.6"
  }
 },
 "nbformat": 4,
 "nbformat_minor": 4
}
